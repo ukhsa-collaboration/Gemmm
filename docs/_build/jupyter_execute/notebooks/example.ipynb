{
 "cells": [
  {
   "cell_type": "markdown",
   "id": "60e6ccc5",
   "metadata": {},
   "source": [
    "# Using GeMMM\n",
    "\n",
    "In this notebook we demonstrate how GeMMM can be used to sample origin-destination matrices for a specific set of MSOAs.\n",
    "\n",
    "A table of available MSOAs is provided in the `tables` module. This includes additional information such as the Local Authority District (LAD), region and country that may be relevant when journey numbers are required for a larger area. For MSOAs in Wales and Scotland, the region and LAD columns are equivalent."
   ]
  },
  {
   "cell_type": "code",
   "execution_count": 1,
   "id": "f5d142d2",
   "metadata": {},
   "outputs": [
    {
     "ename": "ModuleNotFoundError",
     "evalue": "No module named 'gemmm'",
     "output_type": "error",
     "traceback": [
      "\u001b[31m---------------------------------------------------------------------------\u001b[39m",
      "\u001b[31mModuleNotFoundError\u001b[39m                       Traceback (most recent call last)",
      "\u001b[36mCell\u001b[39m\u001b[36m \u001b[39m\u001b[32mIn[1]\u001b[39m\u001b[32m, line 1\u001b[39m\n\u001b[32m----> \u001b[39m\u001b[32m1\u001b[39m \u001b[38;5;28;01mfrom\u001b[39;00m\u001b[38;5;250m \u001b[39m\u001b[34;01mgemmm\u001b[39;00m\u001b[34;01m.\u001b[39;00m\u001b[34;01mtables\u001b[39;00m\u001b[38;5;250m \u001b[39m\u001b[38;5;28;01mimport\u001b[39;00m gb_msoas\n\u001b[32m      2\u001b[39m gb_msoas.head()\n",
      "\u001b[31mModuleNotFoundError\u001b[39m: No module named 'gemmm'"
     ]
    }
   ],
   "source": [
    "from gemmm.tables import gb_msoas\n",
    "gb_msoas.head()"
   ]
  },
  {
   "cell_type": "markdown",
   "id": "a6dd04ce",
   "metadata": {},
   "source": [
    "<br>\n",
    "Suppose that we are interested in generating journey numbers for MSOAs located within the Cambridge LAD.\n",
    "\n",
    "We can pull out the codes of MSOAs that satisfy this condition from the previous table."
   ]
  },
  {
   "cell_type": "code",
   "execution_count": 2,
   "id": "18d05527",
   "metadata": {},
   "outputs": [
    {
     "ename": "NameError",
     "evalue": "name 'gb_msoas' is not defined",
     "output_type": "error",
     "traceback": [
      "\u001b[31m---------------------------------------------------------------------------\u001b[39m",
      "\u001b[31mNameError\u001b[39m                                 Traceback (most recent call last)",
      "\u001b[36mCell\u001b[39m\u001b[36m \u001b[39m\u001b[32mIn[2]\u001b[39m\u001b[32m, line 2\u001b[39m\n\u001b[32m      1\u001b[39m LAD_NAME = \u001b[33m'\u001b[39m\u001b[33mCambridge\u001b[39m\u001b[33m'\u001b[39m\n\u001b[32m----> \u001b[39m\u001b[32m2\u001b[39m msoas = \u001b[43mgb_msoas\u001b[49m.query(\u001b[33m'\u001b[39m\u001b[33mlad_name==@LAD_NAME\u001b[39m\u001b[33m'\u001b[39m).msoa.to_numpy()\n",
      "\u001b[31mNameError\u001b[39m: name 'gb_msoas' is not defined"
     ]
    }
   ],
   "source": [
    "LAD_NAME = 'Cambridge'\n",
    "msoas = gb_msoas.query('lad_name==@LAD_NAME').msoa.to_numpy()"
   ]
  },
  {
   "cell_type": "markdown",
   "id": "e8c1aebd",
   "metadata": {},
   "source": [
    "To sample journey numbers, we first provide the `OriginDestination` class with this array of MSOAs and a day type, either weekday or weekend. \n",
    "\n",
    "When running this for the first time, GeMMM will download [data files](https://github.com/ukhsa-collaboration/Gemmm/tree/main/model_data/) required by the Fourier series and radiation models for each day type. These are cached for future use."
   ]
  },
  {
   "cell_type": "code",
   "execution_count": 3,
   "id": "2468483e",
   "metadata": {},
   "outputs": [
    {
     "ename": "ModuleNotFoundError",
     "evalue": "No module named 'gemmm'",
     "output_type": "error",
     "traceback": [
      "\u001b[31m---------------------------------------------------------------------------\u001b[39m",
      "\u001b[31mModuleNotFoundError\u001b[39m                       Traceback (most recent call last)",
      "\u001b[36mCell\u001b[39m\u001b[36m \u001b[39m\u001b[32mIn[3]\u001b[39m\u001b[32m, line 1\u001b[39m\n\u001b[32m----> \u001b[39m\u001b[32m1\u001b[39m \u001b[38;5;28;01mfrom\u001b[39;00m\u001b[38;5;250m \u001b[39m\u001b[34;01mgemmm\u001b[39;00m\u001b[38;5;250m \u001b[39m\u001b[38;5;28;01mimport\u001b[39;00m OriginDestination\n\u001b[32m      2\u001b[39m sampler = OriginDestination(msoas=msoas, day_type=\u001b[33m'\u001b[39m\u001b[33mweekday\u001b[39m\u001b[33m'\u001b[39m)\n",
      "\u001b[31mModuleNotFoundError\u001b[39m: No module named 'gemmm'"
     ]
    }
   ],
   "source": [
    "from gemmm import OriginDestination\n",
    "sampler = OriginDestination(msoas=msoas, day_type='weekday')"
   ]
  },
  {
   "cell_type": "markdown",
   "id": "07d72f57",
   "metadata": {},
   "source": [
    "With this, we can now sample journey numbers for a single hour of the day or list of hours. Here, `n_realizations` specifies the number of realizations that will be generated for each hour. "
   ]
  },
  {
   "cell_type": "code",
   "execution_count": 4,
   "id": "4922e644",
   "metadata": {},
   "outputs": [
    {
     "ename": "NameError",
     "evalue": "name 'sampler' is not defined",
     "output_type": "error",
     "traceback": [
      "\u001b[31m---------------------------------------------------------------------------\u001b[39m",
      "\u001b[31mNameError\u001b[39m                                 Traceback (most recent call last)",
      "\u001b[36mCell\u001b[39m\u001b[36m \u001b[39m\u001b[32mIn[4]\u001b[39m\u001b[32m, line 1\u001b[39m\n\u001b[32m----> \u001b[39m\u001b[32m1\u001b[39m \u001b[43msampler\u001b[49m.generate_sample(hours=[\u001b[32m8\u001b[39m, \u001b[32m12\u001b[39m, \u001b[32m16\u001b[39m], n_realizations=\u001b[32m5\u001b[39m)\n",
      "\u001b[31mNameError\u001b[39m: name 'sampler' is not defined"
     ]
    }
   ],
   "source": [
    "sampler.generate_sample(hours=[8, 12, 16], n_realizations=5)"
   ]
  },
  {
   "cell_type": "markdown",
   "id": "eae937cf",
   "metadata": {},
   "source": [
    "Samples are stored as a dictionary in `X.samples` with keys given by the tuple *(x, y)*, where *x* is the hour and *y* is the realization number. Note that the numbering of realizations begins with zero.\n",
    "\n",
    "Since the origin-destination matrices contain a high proportion of zeros when considering MSOAs over a large area, the generated matrices are stored in sparse matrix format. Specifically, the COOrdinate format is used, where the row attribute contains the indices of the start MSOAs, the col attribute contains the indices of the end MSOA, and the data attribute contains the number of journeys. The indices of the MSOAs refer to their position in the list originally provided to the `OriginDestination` class.\n",
    "\n",
    "To present the output in a more readable format, the matrices can be converted to pandas DataFrames."
   ]
  },
  {
   "cell_type": "code",
   "execution_count": 5,
   "id": "b4bf8cc3",
   "metadata": {},
   "outputs": [
    {
     "ename": "NameError",
     "evalue": "name 'sampler' is not defined",
     "output_type": "error",
     "traceback": [
      "\u001b[31m---------------------------------------------------------------------------\u001b[39m",
      "\u001b[31mNameError\u001b[39m                                 Traceback (most recent call last)",
      "\u001b[36mCell\u001b[39m\u001b[36m \u001b[39m\u001b[32mIn[5]\u001b[39m\u001b[32m, line 1\u001b[39m\n\u001b[32m----> \u001b[39m\u001b[32m1\u001b[39m \u001b[43msampler\u001b[49m.to_pandas(hour=\u001b[32m8\u001b[39m, realization=\u001b[32m0\u001b[39m, wide=\u001b[38;5;28;01mTrue\u001b[39;00m)\n",
      "\u001b[31mNameError\u001b[39m: name 'sampler' is not defined"
     ]
    }
   ],
   "source": [
    "sampler.to_pandas(hour=8, realization=0, wide=True)"
   ]
  },
  {
   "cell_type": "markdown",
   "id": "39a84a9a",
   "metadata": {},
   "source": [
    "<br>\n",
    "Sometimes it may be useful to know average journey numbers rather than sampled values. These averages can be extracted from the Fourier series and radiation model data for a specific hour."
   ]
  },
  {
   "cell_type": "code",
   "execution_count": 6,
   "id": "fc78aa39",
   "metadata": {},
   "outputs": [
    {
     "ename": "NameError",
     "evalue": "name 'sampler' is not defined",
     "output_type": "error",
     "traceback": [
      "\u001b[31m---------------------------------------------------------------------------\u001b[39m",
      "\u001b[31mNameError\u001b[39m                                 Traceback (most recent call last)",
      "\u001b[36mCell\u001b[39m\u001b[36m \u001b[39m\u001b[32mIn[6]\u001b[39m\u001b[32m, line 4\u001b[39m\n\u001b[32m      1\u001b[39m \u001b[38;5;28;01mimport\u001b[39;00m\u001b[38;5;250m \u001b[39m\u001b[34;01mnumpy\u001b[39;00m\u001b[38;5;250m \u001b[39m\u001b[38;5;28;01mas\u001b[39;00m\u001b[38;5;250m \u001b[39m\u001b[34;01mnp\u001b[39;00m\n\u001b[32m      3\u001b[39m hour = \u001b[32m16\u001b[39m\n\u001b[32m----> \u001b[39m\u001b[32m4\u001b[39m fourier_mean = np.zeros((\u001b[38;5;28mlen\u001b[39m(\u001b[43msampler\u001b[49m.msoas),)*\u001b[32m2\u001b[39m)\n\u001b[32m      5\u001b[39m fourier_mean[sampler.fourier_data.row, sampler.fourier_data.col] = sampler.fourier_data.mean[hour]\n\u001b[32m      7\u001b[39m radiation_mean = sampler.radiation_data.theta[hour] * sampler.radiation_data.mean\n",
      "\u001b[31mNameError\u001b[39m: name 'sampler' is not defined"
     ]
    }
   ],
   "source": [
    "import numpy as np\n",
    "\n",
    "hour = 16\n",
    "fourier_mean = np.zeros((len(sampler.msoas),)*2)\n",
    "fourier_mean[sampler.fourier_data.row, sampler.fourier_data.col] = sampler.fourier_data.mean[hour]\n",
    "\n",
    "radiation_mean = sampler.radiation_data.theta[hour] * sampler.radiation_data.mean\n",
    "\n",
    "model_mean = fourier_mean + radiation_mean"
   ]
  },
  {
   "cell_type": "markdown",
   "id": "3a245aaa",
   "metadata": {},
   "source": [
    "## Saving and loading samples\n",
    "In some instances, it is convenient to save the generated matrices for use later. In GeMMM, this can be achieved using the `save_sample` argument when generating the samples. If True, the samples will be saved in the current directory, otherwise the path to a specific directory must be provided. The filename is automatically set using a timestamp and the day type."
   ]
  },
  {
   "cell_type": "code",
   "execution_count": 7,
   "id": "f82fd891",
   "metadata": {},
   "outputs": [
    {
     "ename": "NameError",
     "evalue": "name 'sampler' is not defined",
     "output_type": "error",
     "traceback": [
      "\u001b[31m---------------------------------------------------------------------------\u001b[39m",
      "\u001b[31mNameError\u001b[39m                                 Traceback (most recent call last)",
      "\u001b[36mCell\u001b[39m\u001b[36m \u001b[39m\u001b[32mIn[7]\u001b[39m\u001b[32m, line 1\u001b[39m\n\u001b[32m----> \u001b[39m\u001b[32m1\u001b[39m save_file = \u001b[43msampler\u001b[49m.generate_sample(hours=[\u001b[32m8\u001b[39m, \u001b[32m12\u001b[39m, \u001b[32m16\u001b[39m], n_realizations=\u001b[32m5\u001b[39m, save_sample=\u001b[38;5;28;01mTrue\u001b[39;00m)\n",
      "\u001b[31mNameError\u001b[39m: name 'sampler' is not defined"
     ]
    }
   ],
   "source": [
    "save_file = sampler.generate_sample(hours=[8, 12, 16], n_realizations=5, save_sample=True)"
   ]
  },
  {
   "cell_type": "markdown",
   "id": "e233dc51",
   "metadata": {},
   "source": [
    "To load the samples, we again use the `OriginDestination` class, but this time provide the full file path."
   ]
  },
  {
   "cell_type": "code",
   "execution_count": 8,
   "id": "c7c11a04",
   "metadata": {},
   "outputs": [
    {
     "ename": "NameError",
     "evalue": "name 'OriginDestination' is not defined",
     "output_type": "error",
     "traceback": [
      "\u001b[31m---------------------------------------------------------------------------\u001b[39m",
      "\u001b[31mNameError\u001b[39m                                 Traceback (most recent call last)",
      "\u001b[36mCell\u001b[39m\u001b[36m \u001b[39m\u001b[32mIn[8]\u001b[39m\u001b[32m, line 1\u001b[39m\n\u001b[32m----> \u001b[39m\u001b[32m1\u001b[39m loader = \u001b[43mOriginDestination\u001b[49m(file=save_file)\n",
      "\u001b[31mNameError\u001b[39m: name 'OriginDestination' is not defined"
     ]
    }
   ],
   "source": [
    "loader = OriginDestination(file=save_file)"
   ]
  },
  {
   "cell_type": "markdown",
   "id": "c9039838",
   "metadata": {},
   "source": [
    "We can then load a matrix for one of the available hours. If a realization is not specified, one will be selected at random."
   ]
  },
  {
   "cell_type": "code",
   "execution_count": 9,
   "id": "49fecc5e",
   "metadata": {},
   "outputs": [
    {
     "ename": "NameError",
     "evalue": "name 'loader' is not defined",
     "output_type": "error",
     "traceback": [
      "\u001b[31m---------------------------------------------------------------------------\u001b[39m",
      "\u001b[31mNameError\u001b[39m                                 Traceback (most recent call last)",
      "\u001b[36mCell\u001b[39m\u001b[36m \u001b[39m\u001b[32mIn[9]\u001b[39m\u001b[32m, line 1\u001b[39m\n\u001b[32m----> \u001b[39m\u001b[32m1\u001b[39m \u001b[43mloader\u001b[49m.load_sample(hour=\u001b[32m16\u001b[39m, realization=\u001b[32m0\u001b[39m, wide=\u001b[38;5;28;01mTrue\u001b[39;00m)\n",
      "\u001b[31mNameError\u001b[39m: name 'loader' is not defined"
     ]
    }
   ],
   "source": [
    "loader.load_sample(hour=16, realization=0, wide=True)"
   ]
  }
 ],
 "metadata": {
  "kernelspec": {
   "display_name": "Python 3 (ipykernel)",
   "language": "python",
   "name": "python3"
  },
  "language_info": {
   "codemirror_mode": {
    "name": "ipython",
    "version": 3
   },
   "file_extension": ".py",
   "mimetype": "text/x-python",
   "name": "python",
   "nbconvert_exporter": "python",
   "pygments_lexer": "ipython3",
   "version": "3.11.0"
  }
 },
 "nbformat": 4,
 "nbformat_minor": 5
}